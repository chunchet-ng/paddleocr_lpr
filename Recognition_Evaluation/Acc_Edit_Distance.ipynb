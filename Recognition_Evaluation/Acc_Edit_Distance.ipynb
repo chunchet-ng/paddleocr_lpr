{
 "cells": [
  {
   "attachments": {},
   "cell_type": "markdown",
   "metadata": {},
   "source": [
    "# 3. Accuracy & Edit Distance Calculation for Text Recognition Task\n"
   ]
  },
  {
   "attachments": {},
   "cell_type": "markdown",
   "metadata": {},
   "source": [
    "In this notebook, we will be going through the evaluation metrics for text recognition, namely edit distance. We will first install and import necessary libraries, then we will learn how to utilise the library for evaluation. Lastly, we will see some examples on how the evaluation is carried out.\n",
    "\n",
    "**Table of Contents**\n",
    "\n",
    "1. [Installation](#installation)\n",
    "2. [Helper Methods](#helper-methods)\n",
    "3. [Evaluation Examples](#evaluation-examples)\n",
    "\n",
    "Get your seatbelt on and let's get started! 🔥⭐\n"
   ]
  },
  {
   "attachments": {},
   "cell_type": "markdown",
   "metadata": {},
   "source": [
    "## Installation\n"
   ]
  },
  {
   "cell_type": "code",
   "execution_count": 1,
   "metadata": {
    "colab": {
     "base_uri": "https://localhost:8080/"
    },
    "executionInfo": {
     "elapsed": 15105,
     "status": "ok",
     "timestamp": 1683797822520,
     "user": {
      "displayName": "Chun Chet Ng",
      "userId": "03243561045656893985"
     },
     "user_tz": -480
    },
    "id": "A72YVVd4Ls0c",
    "outputId": "9c05eaa0-86d3-4c5b-cb1d-4031b3881f62"
   },
   "outputs": [
    {
     "name": "stdout",
     "output_type": "stream",
     "text": [
      "Requirement already satisfied: levenshtein in /Users/nwjun/opt/anaconda3/envs/pytorch/lib/python3.9/site-packages (0.21.0)\r\n",
      "Requirement already satisfied: rapidfuzz<4.0.0,>=2.3.0 in /Users/nwjun/opt/anaconda3/envs/pytorch/lib/python3.9/site-packages (from levenshtein) (3.0.0)\r\n"
     ]
    }
   ],
   "source": [
    "!pip install levenshtein"
   ]
  },
  {
   "attachments": {},
   "cell_type": "markdown",
   "metadata": {},
   "source": [
    "## Helper Methods\n"
   ]
  },
  {
   "cell_type": "code",
   "execution_count": 2,
   "metadata": {
    "executionInfo": {
     "elapsed": 5,
     "status": "ok",
     "timestamp": 1683797822520,
     "user": {
      "displayName": "Chun Chet Ng",
      "userId": "03243561045656893985"
     },
     "user_tz": -480
    },
    "id": "nXvEPAceMF9b"
   },
   "outputs": [],
   "source": [
    "from Levenshtein import distance, editops, apply_edit\n",
    "import typing\n",
    "from typing import List"
   ]
  },
  {
   "cell_type": "code",
   "execution_count": 3,
   "metadata": {
    "executionInfo": {
     "elapsed": 5,
     "status": "ok",
     "timestamp": 1683797822521,
     "user": {
      "displayName": "Chun Chet Ng",
      "userId": "03243561045656893985"
     },
     "user_tz": -480
    },
    "id": "hNbli1zJNx6O"
   },
   "outputs": [],
   "source": [
    "def format_ops(source: str, target: str):\n",
    "    \"\"\"Format the operations done to edit from source to target into printtable message\n",
    "\n",
    "    Args:\n",
    "        source (str): Source(prediction) text\n",
    "        target (str): Target(ground-truth) text\n",
    "\n",
    "    Returns:\n",
    "        edit_history (str): Printtable message describing editing operations\n",
    "    \"\"\"\n",
    "    edit_ops = editops(source, target)\n",
    "    edit_history = \"\"\n",
    "    temp_outputs = []\n",
    "    for i, x in enumerate(edit_ops):\n",
    "        ops = x[0]\n",
    "        source_loc = x[1]\n",
    "        target_loc = x[2]\n",
    "\n",
    "        if i == 0:\n",
    "            source_list = list(source)\n",
    "        else:\n",
    "            source_list = list(temp_outputs[i - 1])\n",
    "        source_list[source_loc] = '\"' + source_list[source_loc] + '\"'\n",
    "        full_source = \"\".join(x for x in source_list)\n",
    "\n",
    "        target_list = list(target)\n",
    "        target_list[target_loc] = '\"' + target_list[target_loc] + '\"'\n",
    "        full_target = \"\".join(x for x in target_list)\n",
    "\n",
    "        temp_output = apply_edit(edit_ops[: i + 1], source, target)\n",
    "        edit_history += (\n",
    "            f\"{i+1}. {ops} {source[source_loc]} of {full_source} with\"\n",
    "            f\" {target[target_loc]} of {full_target} to form {temp_output}\\n\"\n",
    "        )\n",
    "        temp_outputs.append(temp_output)\n",
    "\n",
    "    return edit_history"
   ]
  },
  {
   "cell_type": "code",
   "execution_count": 4,
   "metadata": {
    "executionInfo": {
     "elapsed": 5,
     "status": "ok",
     "timestamp": 1683797823106,
     "user": {
      "displayName": "Chun Chet Ng",
      "userId": "03243561045656893985"
     },
     "user_tz": -480
    },
    "id": "pQYmMOh3A6Kd"
   },
   "outputs": [],
   "source": [
    "def total_edit_distance(gt: List[str], pred: List[str]):\n",
    "    \"\"\"Calculate the total edit distance to convert all predictions into respective ground-truths.\n",
    "    Edit distance for case sensitive and case insensitive are computed.\n",
    "\n",
    "    Args:\n",
    "        gt (List[str]): List of ground-truth text\n",
    "        pred (List[str]): List of predicted text\n",
    "\n",
    "    Returns:\n",
    "        total_edit_distance (int): Total edit distance (case-sensitive)\n",
    "        total_edit_distance_case_insensitive (int): Total edit distance (case-insensitive)\n",
    "    \"\"\"\n",
    "    total_edit_distance = 0\n",
    "    total_edit_distance_case_insensitive = 0\n",
    "    for x, y in zip(gt, pred):\n",
    "        total_edit_distance += distance(x, y)\n",
    "        total_edit_distance_case_insensitive += distance(x.upper(), y.upper())\n",
    "    return total_edit_distance, total_edit_distance_case_insensitive\n",
    "\n",
    "\n",
    "def total_accuracy(gt: List[str], pred: List[str]):\n",
    "    \"\"\"Calculate the total correct prediction.\n",
    "    Both case sensitive and case insensitive evaluation are computed.\n",
    "\n",
    "    Args:\n",
    "        gt (List[str]): List of ground-truth text\n",
    "        pred (List[str]): List of predicted text\n",
    "\n",
    "    Returns:\n",
    "        total_crw (int): Total of correctly predicted text (case-sensitive)\n",
    "        total_crw_case_insensitive (int):Total of correctly predicted text  (case-insensitive)\n",
    "    \"\"\"\n",
    "    total_crw = 0\n",
    "    total_crw_case_insensitive = 0\n",
    "    for x, y in zip(gt, pred):\n",
    "        if x == y:\n",
    "            total_crw += 1\n",
    "        if x.upper() == y.upper():\n",
    "            total_crw_case_insensitive += 1\n",
    "    return total_crw, total_crw_case_insensitive"
   ]
  },
  {
   "attachments": {},
   "cell_type": "markdown",
   "metadata": {},
   "source": [
    "## Evaluation Examples\n"
   ]
  },
  {
   "cell_type": "code",
   "execution_count": 5,
   "metadata": {
    "colab": {
     "base_uri": "https://localhost:8080/"
    },
    "executionInfo": {
     "elapsed": 589,
     "status": "ok",
     "timestamp": 1683797823105,
     "user": {
      "displayName": "Chun Chet Ng",
      "userId": "03243561045656893985"
     },
     "user_tz": -480
    },
    "id": "COaLgmSrMWbL",
    "outputId": "6b1bf1fd-c110-462b-9da8-2176b68847a0"
   },
   "outputs": [
    {
     "name": "stdout",
     "output_type": "stream",
     "text": [
      "Edit distance for Scene and Scono: 2\n",
      "Edit operations for Scene and Scono:\n",
      "1. replace e of Sc\"e\"ne with o of Sc\"o\"no to form Scone\n",
      "2. replace e of Scon\"e\" with o of Scon\"o\" to form Scono\n",
      "\n"
     ]
    }
   ],
   "source": [
    "str1 = \"Scene\"\n",
    "str2 = \"Scono\"\n",
    "print(f\"Edit distance for {str1} and {str2}: {distance(str1, str2)}\")\n",
    "print(f\"Edit operations for {str1} and {str2}:\\n{format_ops(str1, str2)}\")"
   ]
  },
  {
   "cell_type": "code",
   "execution_count": 6,
   "metadata": {
    "colab": {
     "base_uri": "https://localhost:8080/"
    },
    "executionInfo": {
     "elapsed": 10,
     "status": "ok",
     "timestamp": 1683797823106,
     "user": {
      "displayName": "Chun Chet Ng",
      "userId": "03243561045656893985"
     },
     "user_tz": -480
    },
    "id": "kZHuvSTRMWYk",
    "outputId": "2a44d41a-1d34-488d-b433-bfdea2fa387f"
   },
   "outputs": [
    {
     "name": "stdout",
     "output_type": "stream",
     "text": [
      "Edit distance for Chatgpt and ChetGet: 3\n",
      "Edit operations for Chatgpt and ChetGet:\n",
      "1. replace a of Ch\"a\"tgpt with e of Ch\"e\"tGet to form Chetgpt\n",
      "2. replace g of Chet\"g\"pt with G of Chet\"G\"et to form ChetGpt\n",
      "3. replace p of ChetG\"p\"t with e of ChetG\"e\"t to form ChetGet\n",
      "\n"
     ]
    }
   ],
   "source": [
    "str1 = \"Chatgpt\"\n",
    "str2 = \"ChetGet\"\n",
    "print(f\"Edit distance for {str1} and {str2}: {distance(str1, str2)}\")\n",
    "print(f\"Edit operations for {str1} and {str2}:\\n{format_ops(str1, str2)}\")"
   ]
  },
  {
   "cell_type": "code",
   "execution_count": 7,
   "metadata": {
    "colab": {
     "base_uri": "https://localhost:8080/"
    },
    "executionInfo": {
     "elapsed": 7,
     "status": "ok",
     "timestamp": 1683797823106,
     "user": {
      "displayName": "Chun Chet Ng",
      "userId": "03243561045656893985"
     },
     "user_tz": -480
    },
    "id": "l4OwnHLdMTwk",
    "outputId": "012e1703-ab57-4195-c62e-1f2f9f55a9db"
   },
   "outputs": [
    {
     "name": "stdout",
     "output_type": "stream",
     "text": [
      "Edit distance for Artificial and Artefocal: 3\n",
      "Edit operations for Artificial and Artefocal:\n",
      "1. replace i of Art\"i\"ficial with e of Art\"e\"focal to form Arteficial\n",
      "2. replace i of Artef\"i\"cial with o of Artef\"o\"cal to form Artefocial\n",
      "3. delete i of Artefoc\"i\"al with a of Artefoc\"a\"l to form Artefocal\n",
      "\n"
     ]
    }
   ],
   "source": [
    "str1 = \"Artificial\"\n",
    "str2 = \"Artefocal\"\n",
    "print(f\"Edit distance for {str1} and {str2}: {distance(str1, str2)}\")\n",
    "print(f\"Edit operations for {str1} and {str2}:\\n{format_ops(str1, str2)}\")"
   ]
  },
  {
   "cell_type": "code",
   "execution_count": 8,
   "metadata": {
    "colab": {
     "base_uri": "https://localhost:8080/"
    },
    "executionInfo": {
     "elapsed": 5,
     "status": "ok",
     "timestamp": 1683797823106,
     "user": {
      "displayName": "Chun Chet Ng",
      "userId": "03243561045656893985"
     },
     "user_tz": -480
    },
    "id": "yzWX5ZkrCS3C",
    "outputId": "ddc1a0aa-8130-4a91-e0a2-3d5799f2c851"
   },
   "outputs": [
    {
     "name": "stdout",
     "output_type": "stream",
     "text": [
      "Total Correctly Recognized Words: 0\n",
      "Total Correctly Recognized Words (Case Insensitive): 1\n",
      "Accuracy: 0.0 %\n",
      "Accuracy (Case Insensitive): 33.33 %\n",
      "Total Edit Distance: 7\n",
      "Total Edit Distance (Case Insensitive): 4\n"
     ]
    }
   ],
   "source": [
    "# gt = [\"Scene\", \"Chatgpt\", \"Artificial\"]\n",
    "# pred = [\"Scono\", \"ChetGet\", \"Artefocal\"]\n",
    "\n",
    "gt = [\"Scene\", \"Chatgpt\", \"Artificial\"]\n",
    "pred = [\"ScEnE\", \"ChutGpt\", \"Artefocal\"]\n",
    "\n",
    "total_crw, total_crw_ci = total_accuracy(gt, pred)\n",
    "total_edit, total_edit_ci = total_edit_distance(gt, pred)\n",
    "\n",
    "print(f\"Total Correctly Recognized Words: {total_crw}\")\n",
    "print(f\"Total Correctly Recognized Words (Case Insensitive): {total_crw_ci}\")\n",
    "print(f\"Accuracy: {round(total_crw/len(gt)*100, 2)} %\")\n",
    "print(f\"Accuracy (Case Insensitive): {round(total_crw_ci/len(gt)*100, 2)} %\")\n",
    "print(f\"Total Edit Distance: {total_edit}\")\n",
    "print(f\"Total Edit Distance (Case Insensitive): {total_edit_ci}\")"
   ]
  }
 ],
 "metadata": {
  "colab": {
   "provenance": []
  },
  "kernelspec": {
   "display_name": "Python 3 (ipykernel)",
   "language": "python",
   "name": "python3"
  },
  "language_info": {
   "codemirror_mode": {
    "name": "ipython",
    "version": 3
   },
   "file_extension": ".py",
   "mimetype": "text/x-python",
   "name": "python",
   "nbconvert_exporter": "python",
   "pygments_lexer": "ipython3",
   "version": "3.9.16"
  }
 },
 "nbformat": 4,
 "nbformat_minor": 1
}
