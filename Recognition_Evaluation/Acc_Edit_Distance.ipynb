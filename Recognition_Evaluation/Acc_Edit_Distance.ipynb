{
 "cells": [
  {
   "cell_type": "code",
   "execution_count": 1,
   "metadata": {
    "colab": {
     "base_uri": "https://localhost:8080/"
    },
    "executionInfo": {
     "elapsed": 13940,
     "status": "ok",
     "timestamp": 1683730471292,
     "user": {
      "displayName": "Chun Chet Ng",
      "userId": "03243561045656893985"
     },
     "user_tz": -480
    },
    "id": "A72YVVd4Ls0c",
    "outputId": "acd6725c-f868-4117-d0d6-894f6611040e"
   },
   "outputs": [
    {
     "name": "stdout",
     "output_type": "stream",
     "text": [
      "Looking in indexes: https://pypi.org/simple, https://us-python.pkg.dev/colab-wheels/public/simple/\n",
      "Collecting levenshtein\n",
      "  Downloading Levenshtein-0.21.0-cp310-cp310-manylinux_2_17_x86_64.manylinux2014_x86_64.whl (174 kB)\n",
      "\u001b[2K     \u001b[90m━━━━━━━━━━━━━━━━━━━━━━━━━━━━━━━━━━━━━━━\u001b[0m \u001b[32m174.1/174.1 kB\u001b[0m \u001b[31m3.0 MB/s\u001b[0m eta \u001b[36m0:00:00\u001b[0m\n",
      "\u001b[?25hCollecting rapidfuzz<4.0.0,>=2.3.0 (from levenshtein)\n",
      "  Downloading rapidfuzz-3.0.0-cp310-cp310-manylinux_2_17_x86_64.manylinux2014_x86_64.whl (3.0 MB)\n",
      "\u001b[2K     \u001b[90m━━━━━━━━━━━━━━━━━━━━━━━━━━━━━━━━━━━━━━━━\u001b[0m \u001b[32m3.0/3.0 MB\u001b[0m \u001b[31m11.0 MB/s\u001b[0m eta \u001b[36m0:00:00\u001b[0m\n",
      "\u001b[?25hInstalling collected packages: rapidfuzz, levenshtein\n",
      "Successfully installed levenshtein-0.21.0 rapidfuzz-3.0.0\n"
     ]
    }
   ],
   "source": [
    "!pip install levenshtein"
   ]
  },
  {
   "cell_type": "code",
   "execution_count": 2,
   "metadata": {
    "executionInfo": {
     "elapsed": 11,
     "status": "ok",
     "timestamp": 1683730471292,
     "user": {
      "displayName": "Chun Chet Ng",
      "userId": "03243561045656893985"
     },
     "user_tz": -480
    },
    "id": "nXvEPAceMF9b"
   },
   "outputs": [],
   "source": [
    "from Levenshtein import distance, editops, apply_edit"
   ]
  },
  {
   "cell_type": "code",
   "execution_count": 3,
   "metadata": {
    "executionInfo": {
     "elapsed": 10,
     "status": "ok",
     "timestamp": 1683730471292,
     "user": {
      "displayName": "Chun Chet Ng",
      "userId": "03243561045656893985"
     },
     "user_tz": -480
    },
    "id": "hNbli1zJNx6O"
   },
   "outputs": [],
   "source": [
    "def format_ops(source, target):\n",
    "    edit_ops = editops(str1, str2)\n",
    "    edit_history = \"\"\n",
    "    temp_outputs = []\n",
    "    for i, x in enumerate(edit_ops):\n",
    "        ops = x[0]\n",
    "        source_loc = x[1]\n",
    "        target_loc = x[2]\n",
    "\n",
    "        if i == 0:\n",
    "            source_list = list(source)\n",
    "        else:\n",
    "            source_list = list(temp_outputs[i - 1])\n",
    "        source_list[source_loc] = '\"' + source_list[source_loc] + '\"'\n",
    "        full_source = \"\".join(x for x in source_list)\n",
    "\n",
    "        target_list = list(target)\n",
    "        target_list[target_loc] = '\"' + target_list[target_loc] + '\"'\n",
    "        full_target = \"\".join(x for x in target_list)\n",
    "\n",
    "        temp_output = apply_edit(edit_ops[: i + 1], source, target)\n",
    "        edit_history += (\n",
    "            f\"{i+1}. {ops} {source[source_loc]} of {full_source} with\"\n",
    "            f\" {target[target_loc]} of {full_target} to form {temp_output}\\n\"\n",
    "        )\n",
    "        temp_outputs.append(temp_output)\n",
    "\n",
    "    return edit_history"
   ]
  },
  {
   "cell_type": "code",
   "execution_count": 4,
   "metadata": {
    "colab": {
     "base_uri": "https://localhost:8080/"
    },
    "executionInfo": {
     "elapsed": 11,
     "status": "ok",
     "timestamp": 1683730471293,
     "user": {
      "displayName": "Chun Chet Ng",
      "userId": "03243561045656893985"
     },
     "user_tz": -480
    },
    "id": "COaLgmSrMWbL",
    "outputId": "3a971650-e2c8-41be-a03e-dd7aafc6b74e"
   },
   "outputs": [
    {
     "name": "stdout",
     "output_type": "stream",
     "text": [
      "Edit distance for Scene and Scono: 2\n",
      "Edit operations for Scene and Scono:\n",
      "1. replace e of Sc\"e\"ne with o of Sc\"o\"no to form Scone\n",
      "2. replace e of Scon\"e\" with o of Scon\"o\" to form Scono\n",
      "\n"
     ]
    }
   ],
   "source": [
    "str1 = \"Scene\"\n",
    "str2 = \"Scono\"\n",
    "print(f\"Edit distance for {str1} and {str2}: {distance(str1, str2)}\")\n",
    "print(f\"Edit operations for {str1} and {str2}:\\n{format_ops(str1, str2)}\")"
   ]
  },
  {
   "cell_type": "code",
   "execution_count": 5,
   "metadata": {
    "colab": {
     "base_uri": "https://localhost:8080/"
    },
    "executionInfo": {
     "elapsed": 9,
     "status": "ok",
     "timestamp": 1683730471293,
     "user": {
      "displayName": "Chun Chet Ng",
      "userId": "03243561045656893985"
     },
     "user_tz": -480
    },
    "id": "kZHuvSTRMWYk",
    "outputId": "9878c49f-e6b6-4848-d7fe-2687a18bdd68"
   },
   "outputs": [
    {
     "name": "stdout",
     "output_type": "stream",
     "text": [
      "Edit distance for Chatgpt and ChetGet: 3\n",
      "Edit operations for Chatgpt and ChetGet:\n",
      "1. replace a of Ch\"a\"tgpt with e of Ch\"e\"tGet to form Chetgpt\n",
      "2. replace g of Chet\"g\"pt with G of Chet\"G\"et to form ChetGpt\n",
      "3. replace p of ChetG\"p\"t with e of ChetG\"e\"t to form ChetGet\n",
      "\n"
     ]
    }
   ],
   "source": [
    "str1 = \"Chatgpt\"\n",
    "str2 = \"ChetGet\"\n",
    "print(f\"Edit distance for {str1} and {str2}: {distance(str1, str2)}\")\n",
    "print(f\"Edit operations for {str1} and {str2}:\\n{format_ops(str1, str2)}\")"
   ]
  },
  {
   "cell_type": "code",
   "execution_count": 6,
   "metadata": {
    "colab": {
     "base_uri": "https://localhost:8080/"
    },
    "executionInfo": {
     "elapsed": 8,
     "status": "ok",
     "timestamp": 1683730471293,
     "user": {
      "displayName": "Chun Chet Ng",
      "userId": "03243561045656893985"
     },
     "user_tz": -480
    },
    "id": "l4OwnHLdMTwk",
    "outputId": "8ee6b8df-440a-432e-8f51-551208be5081"
   },
   "outputs": [
    {
     "name": "stdout",
     "output_type": "stream",
     "text": [
      "Edit distance for Artificial and Artefocal: 3\n",
      "Edit operations for Artificial and Artefocal:\n",
      "1. replace i of Art\"i\"ficial with e of Art\"e\"focal to form Arteficial\n",
      "2. replace i of Artef\"i\"cial with o of Artef\"o\"cal to form Artefocial\n",
      "3. delete i of Artefoc\"i\"al with a of Artefoc\"a\"l to form Artefocal\n",
      "\n"
     ]
    }
   ],
   "source": [
    "str1 = \"Artificial\"\n",
    "str2 = \"Artefocal\"\n",
    "print(f\"Edit distance for {str1} and {str2}: {distance(str1, str2)}\")\n",
    "print(f\"Edit operations for {str1} and {str2}:\\n{format_ops(str1, str2)}\")"
   ]
  },
  {
   "cell_type": "code",
   "execution_count": 7,
   "metadata": {
    "executionInfo": {
     "elapsed": 6,
     "status": "ok",
     "timestamp": 1683730471293,
     "user": {
      "displayName": "Chun Chet Ng",
      "userId": "03243561045656893985"
     },
     "user_tz": -480
    },
    "id": "pQYmMOh3A6Kd"
   },
   "outputs": [],
   "source": [
    "def total_edit_distance(gt, pred):\n",
    "    total_edit_distance = 0\n",
    "    total_edit_distance_case_insensitive = 0\n",
    "    for x, y in zip(gt, pred):\n",
    "        total_edit_distance += distance(x, y)\n",
    "        total_edit_distance_case_insensitive += distance(x.upper(), y.upper())\n",
    "    return total_edit_distance, total_edit_distance_case_insensitive\n",
    "\n",
    "\n",
    "def total_accuracy(gt, pred):\n",
    "    total_crw = 0\n",
    "    total_crw_case_insensitive = 0\n",
    "    for x, y in zip(gt, pred):\n",
    "        if x == y:\n",
    "            total_crw += 1\n",
    "        if x.upper() == y.upper():\n",
    "            total_crw_case_insensitive += 1\n",
    "    return total_crw, total_crw_case_insensitive"
   ]
  },
  {
   "cell_type": "code",
   "execution_count": 11,
   "metadata": {
    "colab": {
     "base_uri": "https://localhost:8080/"
    },
    "executionInfo": {
     "elapsed": 397,
     "status": "ok",
     "timestamp": 1683730505788,
     "user": {
      "displayName": "Chun Chet Ng",
      "userId": "03243561045656893985"
     },
     "user_tz": -480
    },
    "id": "yzWX5ZkrCS3C",
    "outputId": "4fc2e477-d35b-435c-8946-3fd6cab892d3"
   },
   "outputs": [
    {
     "name": "stdout",
     "output_type": "stream",
     "text": [
      "Total Correctly Recognized Words: 0\n",
      "Total Correctly Recognized Words (Case Insensitive): 1\n",
      "Accuracy: 0.0 %\n",
      "Accuracy (Case Insensitive): 33.33 %\n",
      "Total Edit Distance: 7\n",
      "Total Edit Distance (Case Insensitive): 4\n"
     ]
    }
   ],
   "source": [
    "# gt = [\"Scene\", \"Chatgpt\", \"Artificial\"]\n",
    "# pred = [\"Scono\", \"ChetGet\", \"Artefocal\"]\n",
    "\n",
    "gt = [\"Scene\", \"Chatgpt\", \"Artificial\"]\n",
    "pred = [\"ScEnE\", \"ChutGpt\", \"Artefocal\"]\n",
    "\n",
    "total_crw, total_crw_ci = total_accuracy(gt, pred)\n",
    "total_edit, total_edit_ci = total_edit_distance(gt, pred)\n",
    "\n",
    "print(f\"Total Correctly Recognized Words: {total_crw}\")\n",
    "print(f\"Total Correctly Recognized Words (Case Insensitive): {total_crw_ci}\")\n",
    "print(f\"Accuracy: {round(total_crw/len(gt)*100, 2)} %\")\n",
    "print(f\"Accuracy (Case Insensitive): {round(total_crw_ci/len(gt)*100, 2)} %\")\n",
    "print(f\"Total Edit Distance: {total_edit}\")\n",
    "print(f\"Total Edit Distance (Case Insensitive): {total_edit_ci}\")"
   ]
  },
  {
   "cell_type": "code",
   "execution_count": 8,
   "metadata": {
    "executionInfo": {
     "elapsed": 6,
     "status": "ok",
     "timestamp": 1683730471294,
     "user": {
      "displayName": "Chun Chet Ng",
      "userId": "03243561045656893985"
     },
     "user_tz": -480
    },
    "id": "_Tz6VqUKGh4I"
   },
   "outputs": [],
   "source": []
  }
 ],
 "metadata": {
  "colab": {
   "authorship_tag": "ABX9TyMfd46UDYql0cOMfC4I7NJz",
   "provenance": []
  },
  "kernelspec": {
   "display_name": "Python 3 (ipykernel)",
   "language": "python",
   "name": "python3"
  },
  "language_info": {
   "codemirror_mode": {
    "name": "ipython",
    "version": 3
   },
   "file_extension": ".py",
   "mimetype": "text/x-python",
   "name": "python",
   "nbconvert_exporter": "python",
   "pygments_lexer": "ipython3",
   "version": "3.10.8"
  }
 },
 "nbformat": 4,
 "nbformat_minor": 1
}
