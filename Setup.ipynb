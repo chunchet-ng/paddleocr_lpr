{
 "cells": [
  {
   "attachments": {},
   "cell_type": "markdown",
   "metadata": {},
   "source": [
    "## Mount Google Drive"
   ]
  },
  {
   "cell_type": "code",
   "execution_count": null,
   "metadata": {},
   "outputs": [],
   "source": [
    "from google.colab import drive\n",
    "\n",
    "drive.mount(\"/content/drive/\")"
   ]
  },
  {
   "attachments": {},
   "cell_type": "markdown",
   "metadata": {},
   "source": [
    "## Git clone the repo"
   ]
  },
  {
   "cell_type": "code",
   "execution_count": null,
   "metadata": {},
   "outputs": [],
   "source": [
    "%cd \"/content/drive/My Drive\"\n",
    "!git clone https://github.com/chunchet-ng/paddleocr_lpr.git\n",
    "\n",
    "%cd \"/content/drive/My Drive/paddleocr_lpr\"\n",
    "%mv \"CCPD2019\" \"../CCPD2019\""
   ]
  },
  {
   "attachments": {},
   "cell_type": "markdown",
   "metadata": {},
   "source": [
    "## Create necessary folders"
   ]
  },
  {
   "cell_type": "code",
   "execution_count": null,
   "metadata": {},
   "outputs": [],
   "source": [
    "!mkdir \"/content/drive/My Drive/Colab Notebooks/Chapter 4\"\n",
    "\n",
    "%mv \"Detection_Evaluation\" \"/content/drive/My Drive/Colab Notebooks/Chapter 4/Detection_Evaluation\"\n",
    "%mv \"Recognition_Evaluation\" \"/content/drive/My Drive/Colab Notebooks/Chapter 4/Recognition_Evaluation\"\n",
    "%mv \"License_Plate_Recognition\" \"/content/drive/My Drive/Colab Notebooks/Chapter 4/License_Plate_Recognition\""
   ]
  }
 ],
 "metadata": {
  "language_info": {
   "name": "python"
  },
  "orig_nbformat": 4
 },
 "nbformat": 4,
 "nbformat_minor": 2
}
